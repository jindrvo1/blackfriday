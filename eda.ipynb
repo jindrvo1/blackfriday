{
 "cells": [
  {
   "cell_type": "code",
   "execution_count": 1,
   "metadata": {},
   "outputs": [],
   "source": [
    "%load_ext autoreload\n",
    "%autoreload 2"
   ]
  },
  {
   "cell_type": "code",
   "execution_count": 2,
   "metadata": {},
   "outputs": [],
   "source": [
    "import numpy as np\n",
    "import pandas as pd\n",
    "import plotly.express as px\n",
    "from plotly.subplots import make_subplots\n",
    "\n",
    "from lib import BlackFridayDataset\n",
    "\n",
    "pd.options.plotting.backend = 'plotly'\n",
    "pd.options.display.max_columns = None"
   ]
  },
  {
   "cell_type": "code",
   "execution_count": 3,
   "metadata": {},
   "outputs": [],
   "source": [
    "dataset = BlackFridayDataset('data/train.csv', test_path='data/test.csv')\n",
    "df, df_test = dataset.get_dfs()\n",
    "# df_encoded, _ = dataset.preprocess_dfs(return_res=True)"
   ]
  },
  {
   "cell_type": "code",
   "execution_count": null,
   "metadata": {},
   "outputs": [],
   "source": [
    "cols_to_drop = ['User_ID', 'Product_ID']\n",
    "target_col = 'Purchase'\n",
    "product_category_cols = ['Product_Category_1', 'Product_Category_2', 'Product_Category_3']\n",
    "feature_cols = ['Gender', 'Age', 'Occupation', 'City_Category', 'Stay_In_Current_City_Years', 'Marital_Status']"
   ]
  },
  {
   "cell_type": "code",
   "execution_count": null,
   "metadata": {},
   "outputs": [],
   "source": [
    "df.head()"
   ]
  },
  {
   "cell_type": "code",
   "execution_count": null,
   "metadata": {},
   "outputs": [],
   "source": [
    "df.describe()"
   ]
  },
  {
   "cell_type": "code",
   "execution_count": null,
   "metadata": {},
   "outputs": [],
   "source": [
    "df.nunique()"
   ]
  },
  {
   "cell_type": "code",
   "execution_count": null,
   "metadata": {},
   "outputs": [],
   "source": [
    "df.isna().sum()"
   ]
  },
  {
   "cell_type": "markdown",
   "metadata": {},
   "source": [
    "## Check that unique values of all features do not differ between train and test\n",
    "This is necessary for data encoding. If the test dataset included values not seen in the train dataset, encoding would fail."
   ]
  },
  {
   "cell_type": "code",
   "execution_count": null,
   "metadata": {},
   "outputs": [],
   "source": [
    "cols_to_compare = df_test.drop(columns=cols_to_drop + product_category_cols).columns"
   ]
  },
  {
   "cell_type": "code",
   "execution_count": null,
   "metadata": {},
   "outputs": [],
   "source": [
    "for col in cols_to_compare:\n",
    "    assert set(df[col].unique()) == set(df_test[col].unique())"
   ]
  },
  {
   "cell_type": "code",
   "execution_count": null,
   "metadata": {},
   "outputs": [],
   "source": [
    "df_categories = np.unique(df[product_category_cols].values.flatten())\n",
    "df_categories = set(df_categories[~np.isnan(df_categories)])\n",
    "\n",
    "df_test_categories = np.unique(df_test[product_category_cols].values.flatten())\n",
    "df_test_categories = set(df_test_categories[~np.isnan(df_test_categories)])\n",
    "\n",
    "assert len(df_test_categories - df_categories) == 0"
   ]
  },
  {
   "cell_type": "code",
   "execution_count": null,
   "metadata": {},
   "outputs": [],
   "source": [
    "print(df_categories - df_test_categories)\n",
    "print(df_test_categories - df_categories)"
   ]
  },
  {
   "cell_type": "markdown",
   "metadata": {},
   "source": [
    "There are two missing product categories in the test dataset, but all of the product categories in the test dataset are present in the train dataset, hence this will not cause any problems with data encoding."
   ]
  },
  {
   "cell_type": "markdown",
   "metadata": {},
   "source": [
    "## Correlation between the feature variables and the target variable\n",
    "\n",
    "Since our feature variables are discrete and unordered (except for possibly `Age` and `Stay_In_Current_City_Years`), traditional correlation methods are not suitable. For example, Pearson's correlation assumes that the data are continuous, while Spearman's correlation assumes order in the categorical data.\n",
    "\n",
    "Instead, we measure the correlations using the $\\eta^2$ method based on the ANOVA test, outputting a coefficient in the range of 0 and 1 with higher value indicating stronger association. "
   ]
  },
  {
   "cell_type": "code",
   "execution_count": null,
   "metadata": {},
   "outputs": [],
   "source": [
    "from statsmodels.formula.api import ols\n",
    "import statsmodels.api as sm\n",
    "\n",
    "cols = feature_cols + product_category_cols\n",
    "\n",
    "df_correlations = pd.DataFrame(columns=['Feature', 'Correlation'], index=range(len(cols)))\n",
    "\n",
    "for i, feature in enumerate(feature_cols + product_category_cols):\n",
    "    df_rel = df[[feature, 'Purchase']]\n",
    "    model = ols(f'Purchase ~ C({feature})', data=df_rel).fit()\n",
    "    anova_table = sm.stats.anova_lm(model, typ=2)\n",
    "    eta_squared_category1 = anova_table['sum_sq'][f'C({feature})'] / anova_table['sum_sq'].sum()\n",
    "    df_correlations.iloc[i] = [feature, eta_squared_category1]\n",
    "\n",
    "df_correlations = df_correlations.sort_values(by='Correlation', ascending=False)"
   ]
  },
  {
   "cell_type": "code",
   "execution_count": null,
   "metadata": {},
   "outputs": [],
   "source": [
    "df_correlations"
   ]
  },
  {
   "cell_type": "markdown",
   "metadata": {},
   "source": [
    "There don't seem to be significant correlations between the demographic features and the purchase amount, while there is some level of association between the product categories and the target variable. This result is to be investigated further as we don't have much insight into the data, and knowing whether there is an ordinal relationship among the categories will help us choose the correct way to encode it, hence improving the model's performance.\n",
    "\n",
    "Nevertheless, all of the features will be studied more thoroughly to further understand the data to help confirm or reject the correlation analysis."
   ]
  },
  {
   "cell_type": "markdown",
   "metadata": {},
   "source": [
    "## User ID"
   ]
  },
  {
   "cell_type": "markdown",
   "metadata": {},
   "source": [
    "The `User_ID` column serves as a unique identifier of a user. It will not be used as an input for the model, however it can still offer interesting insights into the data.\n",
    "\n",
    "TBD"
   ]
  },
  {
   "cell_type": "code",
   "execution_count": null,
   "metadata": {},
   "outputs": [],
   "source": [
    "users_purchase_count = df.groupby(by='User_ID')['Purchase']\\\n",
    "    .agg(['mean', 'std', 'count'])\\\n",
    "    .sort_values(by='count', ascending=False)"
   ]
  },
  {
   "cell_type": "code",
   "execution_count": null,
   "metadata": {},
   "outputs": [],
   "source": [
    "users_purchase_count"
   ]
  },
  {
   "cell_type": "markdown",
   "metadata": {},
   "source": [
    "## Product ID"
   ]
  },
  {
   "cell_type": "markdown",
   "metadata": {},
   "source": [
    "The `Product_ID` serves as a unique identifier for each product. It will not be used as an input feature. However, we can use it to better understand the dataset.\n",
    "\n",
    "The questions we want to answer are:\n",
    "- Are product categories constant among all purchases of a single product?\n",
    "- How much does the purchase amount vary for a single product among purchases?"
   ]
  },
  {
   "cell_type": "markdown",
   "metadata": {},
   "source": [
    "### Product categories"
   ]
  },
  {
   "cell_type": "code",
   "execution_count": null,
   "metadata": {},
   "outputs": [],
   "source": [
    "df[['Product_ID'] + product_category_cols]\\\n",
    "    .fillna(0)\\\n",
    "    .groupby(by='Product_ID')[product_category_cols]\\\n",
    "    .nunique()\\\n",
    "    .eq(1)\\\n",
    "    .all()\\\n",
    "    .all()"
   ]
  },
  {
   "cell_type": "markdown",
   "metadata": {},
   "source": [
    "Product categories are constant in all of the purchase instances."
   ]
  },
  {
   "cell_type": "markdown",
   "metadata": {},
   "source": [
    "## Purchase"
   ]
  },
  {
   "cell_type": "code",
   "execution_count": null,
   "metadata": {},
   "outputs": [],
   "source": [
    "df.groupby(by='Product_ID')['Purchase']\\\n",
    "    .nunique()\\\n",
    "    .eq(1)\\\n",
    "    .all()\\\n",
    "    .all()"
   ]
  },
  {
   "cell_type": "markdown",
   "metadata": {},
   "source": [
    "Purchase values are not constant among purchase instances. \n",
    "\n",
    "Let's investigate the differences in the most purchased products (for the sake of readability of the plot, we limit the amount of products to 9)."
   ]
  },
  {
   "cell_type": "code",
   "execution_count": null,
   "metadata": {},
   "outputs": [],
   "source": [
    "n_products = 9\n",
    "\n",
    "products_purchase_count = df.groupby(by='Product_ID')['Purchase']\\\n",
    "    .agg(['mean', 'std', 'count'])\\\n",
    "    .sort_values(by='count', ascending=False)"
   ]
  },
  {
   "cell_type": "code",
   "execution_count": null,
   "metadata": {},
   "outputs": [],
   "source": [
    "fig = px.box(\n",
    "    df[df['Product_ID'].isin(products_purchase_count.head(n_products).index)],\n",
    "    x='Product_ID',\n",
    "    y='Purchase',\n",
    ")\n",
    "\n",
    "fig.update_layout(\n",
    "    xaxis_title='Product ID of the most purchased products',\n",
    "    yaxis_title='Distribution of purchase amounts',\n",
    ")\n",
    "\n",
    "fig.show()"
   ]
  },
  {
   "cell_type": "code",
   "execution_count": null,
   "metadata": {},
   "outputs": [],
   "source": [
    "fig_n_cols = 3\n",
    "fig_n_rows = n_products // fig_n_cols + int(n_products % fig_n_cols != 0)\n",
    "\n",
    "fig = make_subplots(\n",
    "    rows=fig_n_rows,\n",
    "    cols=fig_n_cols,\n",
    "    x_title='Purchase amount',\n",
    "    y_title='Number of occurrences',\n",
    "    subplot_titles=products_purchase_count.head(n_products).index.tolist(),\n",
    "    vertical_spacing=0.1,\n",
    ")\n",
    "\n",
    "for row_id in range(n_products):\n",
    "    product_id = products_purchase_count.index[row_id]\n",
    "\n",
    "    row = row_id // fig_n_cols\n",
    "    col = row_id % fig_n_cols\n",
    "\n",
    "    subplot = px.histogram(\n",
    "        df[df['Product_ID'] == product_id]['Purchase'],\n",
    "        nbins=100,\n",
    "    )\n",
    "\n",
    "    fig.add_trace(subplot.data[0], row=row + 1, col=col + 1)\n",
    "\n",
    "fig.update_layout(showlegend=False, height=fig_n_rows * 300)\n",
    "\n",
    "fig.show()"
   ]
  },
  {
   "cell_type": "markdown",
   "metadata": {},
   "source": [
    "The data show that there are heavy differences in the purchase amount for all of the products, and the purchase amounts of a product seem to follow somewhat normal distributions around 5 mean values. This could be explained by two reasons:\n",
    "- The different groups of purchase amounts exist because of discounts. Unfortunately, from the provided data, we have no way of checking whether this is true.\n",
    "- The purchase amounts differ based on the users' demographics. We investigate this behavior by the following.\n",
    "    - We compare users of the same demographics to the purchase value on the most purchased products.\n",
    "    - For users that bought several products, we check whether they always belong to the same price group."
   ]
  },
  {
   "cell_type": "markdown",
   "metadata": {},
   "source": [
    "### Users of the same demographics"
   ]
  },
  {
   "cell_type": "code",
   "execution_count": null,
   "metadata": {},
   "outputs": [],
   "source": [
    "def get_demographics_per_product(product_id: str) -> pd.DataFrame:\n",
    "    df_rel = df[df['Product_ID'] == product_id]\n",
    "\n",
    "    df_product_demographics = df_rel.copy()\n",
    "    df_product_demographics = df_product_demographics[feature_cols + ['Purchase']]\n",
    "\n",
    "    most_occuring_demographics = df_product_demographics.groupby(by=feature_cols)['Purchase'].count().sort_values(ascending=False).head(5).index\n",
    "\n",
    "    df_product_demographics = df_product_demographics.set_index(feature_cols)\n",
    "    df_product_demographics = df_product_demographics.loc[most_occuring_demographics, :]\n",
    "    df_product_demographics = df_product_demographics.sort_index()\n",
    "\n",
    "    for group, demographics in enumerate(most_occuring_demographics):\n",
    "        df_product_demographics.loc[demographics, 'Demographics group'] = group\n",
    "\n",
    "    df_product_demographics['Demographics group'] = df_product_demographics['Demographics group'].astype(int)\n",
    "\n",
    "    return df_product_demographics"
   ]
  },
  {
   "cell_type": "code",
   "execution_count": null,
   "metadata": {},
   "outputs": [],
   "source": [
    "df_product_demographics = get_demographics_per_product(products_purchase_count.index[1])\n",
    "\n",
    "df_product_demographics.groupby(by='Demographics group')['Purchase'].agg(['mean', 'std', 'count'])"
   ]
  },
  {
   "cell_type": "markdown",
   "metadata": {},
   "source": [
    "We substitute 5 of the most common demographic vectors with an integer representing the different groups.\n",
    "\n",
    "There are only a couple of users sharing the same demographics and their purchase amounts don't seem to differ heavily at the first glance. "
   ]
  },
  {
   "cell_type": "code",
   "execution_count": null,
   "metadata": {},
   "outputs": [],
   "source": [
    "fig = px.histogram(df_product_demographics, x='Purchase', color='Demographics group')\n",
    "fig.update_layout(xaxis_title='Purchase amount', yaxis_title='Number of occurrences')\n",
    "\n",
    "fig.show()"
   ]
  },
  {
   "cell_type": "markdown",
   "metadata": {},
   "source": [
    "The representation of different demographic groups is somewhat uniform among the purchase amounts, however since only a very small number of users share the same demographics, the result isn't of large significance. Hence, we instead compare the demographic features to the purchase amounts separately for a single product."
   ]
  },
  {
   "cell_type": "code",
   "execution_count": null,
   "metadata": {},
   "outputs": [],
   "source": [
    "fig_n_cols = 2\n",
    "n_features = len(feature_cols)\n",
    "\n",
    "fig = make_subplots(\n",
    "    rows=n_features // fig_n_cols + int(n_features % fig_n_cols != 0),\n",
    "    cols=fig_n_cols,\n",
    "    subplot_titles=feature_cols,\n",
    "    vertical_spacing=0.1,\n",
    "    horizontal_spacing=0.05,\n",
    "    x_title='Purchase amount',\n",
    "    y_title='Number of occurrences',\n",
    ")\n",
    "\n",
    "product_id = products_purchase_count.index[0]\n",
    "df_rel = df[df['Product_ID'] == product_id]\n",
    "\n",
    "for ith_feature in range(n_features):\n",
    "    feature = feature_cols[ith_feature]\n",
    "\n",
    "    row = ith_feature // fig_n_cols\n",
    "    col = ith_feature % fig_n_cols\n",
    "\n",
    "    subplot = px.histogram(\n",
    "        df_rel,\n",
    "        x='Purchase',\n",
    "        nbins=100,\n",
    "        category_orders={feature: sorted(df_rel[feature].unique())},\n",
    "        color=feature,\n",
    "    )\n",
    "\n",
    "    for trace_index, trace in enumerate(subplot.data):\n",
    "        trace.name = f\"{feature}: {trace.name}\"\n",
    "        fig.add_trace(trace, row=row+1, col=col+1)\n",
    "\n",
    "fig.update_layout(height=fig_n_rows * 300)\n",
    "\n",
    "fig.show()"
   ]
  },
  {
   "cell_type": "markdown",
   "metadata": {},
   "source": [
    "There does not seem to be a significant relationship between any of the features and the purchase amounts, which confirms the results of our correlation analysis."
   ]
  },
  {
   "cell_type": "markdown",
   "metadata": {},
   "source": [
    "### Users' purchase amount group"
   ]
  },
  {
   "cell_type": "markdown",
   "metadata": {},
   "source": [
    "Since the analysis of demographic features did not explain the purchase amounts groups, we further investigate by analysing whether the grouping of the users is consistent, i.e. whether one user always buys products for small prices while another buys the same products for higher prices. \n",
    "\n",
    "To do this, we assume that there are always 5 price groups, which is an observation that seems true at least for products with many purchases. We then cluster purchases of each product and compare users' distributions of the clusters.\n",
    "\n",
    "We take into account only users with at least 100 purchases, and we eliminate products with less than 5 purchases to make the clustering possible."
   ]
  },
  {
   "cell_type": "code",
   "execution_count": null,
   "metadata": {},
   "outputs": [],
   "source": [
    "from sklearn.cluster import KMeans\n",
    "\n",
    "df_clustered = df.copy()\n",
    "\n",
    "product_counts = df_clustered.value_counts('Product_ID')\n",
    "eligible_products = product_counts.index[product_counts.gt(5)]\n",
    "\n",
    "df_clustered = df_clustered.loc[df_clustered['Product_ID'].isin(eligible_products)]\n",
    "product_ids = df_clustered['Product_ID'].unique()\n",
    "\n",
    "for product_id in product_ids:\n",
    "    idx = df_clustered['Product_ID'] == product_id\n",
    "\n",
    "    kmeans = KMeans(n_clusters=5, random_state=0)\n",
    "    clusters = kmeans.fit_predict(df_clustered.loc[idx, ['Purchase']])\n",
    "\n",
    "    centroids = kmeans.cluster_centers_.flatten()\n",
    "    labels_ordered = np.argsort(centroids)\n",
    "    centroids_ordered = centroids[labels_ordered]\n",
    "\n",
    "    df_clustered.loc[idx, 'Cluster'] = clusters\n",
    "    df_clustered.loc[idx, 'Cluster'] = df_clustered.loc[idx, 'Cluster'].map({k: v for k, v in enumerate(labels_ordered)})\n",
    "    df_clustered.loc[idx, 'Cluster Centroid'] = df_clustered.loc[idx, 'Cluster'].map({k: v for k, v in enumerate(centroids_ordered)})\n",
    "\n",
    "df_clustered['Cluster'] = df_clustered['Cluster'].astype(int)"
   ]
  },
  {
   "cell_type": "code",
   "execution_count": null,
   "metadata": {},
   "outputs": [],
   "source": [
    "eligible_users = users_purchase_count[users_purchase_count['count'].ge(100)].index"
   ]
  },
  {
   "cell_type": "code",
   "execution_count": 409,
   "metadata": {},
   "outputs": [
    {
     "data": {
      "text/html": [
       "<div>\n",
       "<style scoped>\n",
       "    .dataframe tbody tr th:only-of-type {\n",
       "        vertical-align: middle;\n",
       "    }\n",
       "\n",
       "    .dataframe tbody tr th {\n",
       "        vertical-align: top;\n",
       "    }\n",
       "\n",
       "    .dataframe thead th {\n",
       "        text-align: right;\n",
       "    }\n",
       "</style>\n",
       "<table border=\"1\" class=\"dataframe\">\n",
       "  <thead>\n",
       "    <tr style=\"text-align: right;\">\n",
       "      <th></th>\n",
       "      <th>mean</th>\n",
       "      <th>std</th>\n",
       "      <th>count</th>\n",
       "    </tr>\n",
       "    <tr>\n",
       "      <th>User_ID</th>\n",
       "      <th></th>\n",
       "      <th></th>\n",
       "      <th></th>\n",
       "    </tr>\n",
       "  </thead>\n",
       "  <tbody>\n",
       "    <tr>\n",
       "      <th>1000307</th>\n",
       "      <td>2.771930</td>\n",
       "      <td>1.317245</td>\n",
       "      <td>114</td>\n",
       "    </tr>\n",
       "    <tr>\n",
       "      <th>1003101</th>\n",
       "      <td>2.761905</td>\n",
       "      <td>1.325892</td>\n",
       "      <td>147</td>\n",
       "    </tr>\n",
       "    <tr>\n",
       "      <th>1003864</th>\n",
       "      <td>2.753968</td>\n",
       "      <td>1.318705</td>\n",
       "      <td>126</td>\n",
       "    </tr>\n",
       "    <tr>\n",
       "      <th>1002185</th>\n",
       "      <td>2.742690</td>\n",
       "      <td>1.351858</td>\n",
       "      <td>171</td>\n",
       "    </tr>\n",
       "    <tr>\n",
       "      <th>1004801</th>\n",
       "      <td>2.732759</td>\n",
       "      <td>1.505686</td>\n",
       "      <td>116</td>\n",
       "    </tr>\n",
       "    <tr>\n",
       "      <th>...</th>\n",
       "      <td>...</td>\n",
       "      <td>...</td>\n",
       "      <td>...</td>\n",
       "    </tr>\n",
       "    <tr>\n",
       "      <th>1003610</th>\n",
       "      <td>1.796392</td>\n",
       "      <td>1.400364</td>\n",
       "      <td>388</td>\n",
       "    </tr>\n",
       "    <tr>\n",
       "      <th>1005558</th>\n",
       "      <td>1.788321</td>\n",
       "      <td>1.384954</td>\n",
       "      <td>137</td>\n",
       "    </tr>\n",
       "    <tr>\n",
       "      <th>1001495</th>\n",
       "      <td>1.778846</td>\n",
       "      <td>1.357873</td>\n",
       "      <td>104</td>\n",
       "    </tr>\n",
       "    <tr>\n",
       "      <th>1002167</th>\n",
       "      <td>1.741379</td>\n",
       "      <td>1.469225</td>\n",
       "      <td>116</td>\n",
       "    </tr>\n",
       "    <tr>\n",
       "      <th>1005686</th>\n",
       "      <td>1.738255</td>\n",
       "      <td>1.360313</td>\n",
       "      <td>298</td>\n",
       "    </tr>\n",
       "  </tbody>\n",
       "</table>\n",
       "<p>1738 rows × 3 columns</p>\n",
       "</div>"
      ],
      "text/plain": [
       "             mean       std  count\n",
       "User_ID                           \n",
       "1000307  2.771930  1.317245    114\n",
       "1003101  2.761905  1.325892    147\n",
       "1003864  2.753968  1.318705    126\n",
       "1002185  2.742690  1.351858    171\n",
       "1004801  2.732759  1.505686    116\n",
       "...           ...       ...    ...\n",
       "1003610  1.796392  1.400364    388\n",
       "1005558  1.788321  1.384954    137\n",
       "1001495  1.778846  1.357873    104\n",
       "1002167  1.741379  1.469225    116\n",
       "1005686  1.738255  1.360313    298\n",
       "\n",
       "[1738 rows x 3 columns]"
      ]
     },
     "execution_count": 409,
     "metadata": {},
     "output_type": "execute_result"
    }
   ],
   "source": [
    "df_clustered_eligible = df_clustered[df_clustered['User_ID'].isin(eligible_users)]\n",
    "df_clustered_eligible.groupby('User_ID')['Cluster'].agg(['mean', 'std', 'count']).sort_values(by='mean', ascending=False)"
   ]
  },
  {
   "cell_type": "code",
   "execution_count": null,
   "metadata": {},
   "outputs": [],
   "source": [
    "df_clustered_eligible['Cluster'].mean()"
   ]
  },
  {
   "cell_type": "code",
   "execution_count": 410,
   "metadata": {},
   "outputs": [
    {
     "data": {
      "application/vnd.plotly.v1+json": {
       "config": {
        "plotlyServerURL": "https://plot.ly"
       },
       "data": [
        {
         "alignmentgroup": "True",
         "bingroup": "x",
         "hovertemplate": "variable=mean<br>value=%{x}<br>count=%{y}<extra></extra>",
         "legendgroup": "mean",
         "marker": {
          "color": "#636efa",
          "pattern": {
           "shape": ""
          }
         },
         "name": "mean",
         "offsetgroup": "mean",
         "orientation": "v",
         "showlegend": true,
         "type": "histogram",
         "x": [
          2.2358490566037736,
          2.304932735426009,
          2.52991452991453,
          2.5130434782608697,
          2.2055555555555557,
          2.179310344827586,
          2.269230769230769,
          2.1052631578947367,
          1.8938053097345133,
          2.3333333333333335,
          2.44,
          2.3063063063063063,
          2.33,
          2.616,
          2.3,
          2.04320987654321,
          2.165680473372781,
          2.151193633952255,
          2.326923076923077,
          2.1875,
          2.306049822064057,
          2.126865671641791,
          2.2072072072072073,
          2.3284671532846715,
          2.098654708520179,
          1.9652173913043478,
          2.1236749116607774,
          2.3445378151260505,
          2.2893982808022924,
          2.38,
          2.0921052631578947,
          2.0686274509803924,
          2.150442477876106,
          2.28,
          2.4525547445255476,
          2.2447257383966246,
          2.2271386430678466,
          2.3353293413173652,
          2.474074074074074,
          2.187279151943463,
          2.4608294930875574,
          2.4184782608695654,
          1.8962962962962964,
          2.3963133640552994,
          2.2651757188498403,
          2.468152866242038,
          2.1403508771929824,
          2.4705882352941178,
          2.2839506172839505,
          2.3964912280701753,
          2.466666666666667,
          2.173160173160173,
          2.3125,
          2.2270531400966185,
          2.150395778364116,
          2.361788617886179,
          2.3333333333333335,
          2.163551401869159,
          2.2213740458015265,
          2.2145328719723185,
          2.3157894736842106,
          2.47,
          2.4377358490566037,
          2.5214285714285714,
          2.2650602409638556,
          2.0160919540229885,
          2.4,
          2.2314814814814814,
          2.232727272727273,
          2.195804195804196,
          2.4574468085106385,
          2.092857142857143,
          2.213675213675214,
          2.1578947368421053,
          2.065693430656934,
          2.2176470588235295,
          2.1142857142857143,
          2.6493506493506493,
          2.3333333333333335,
          2.143487858719647,
          2.32,
          2.3008849557522124,
          2.7719298245614037,
          2.2546583850931676,
          1.901639344262295,
          2.235632183908046,
          2.2,
          2.051851851851852,
          2.3440366972477062,
          2.3384615384615386,
          2.0268456375838926,
          2.274336283185841,
          2.2554744525547443,
          2.2,
          2.3694581280788176,
          2.2229299363057327,
          2.2241379310344827,
          2.232258064516129,
          2.2160493827160495,
          2.2828685258964145,
          2.5,
          2.2731958762886597,
          2.2733333333333334,
          2.193548387096774,
          2.298507462686567,
          2.488,
          2.38125,
          2.2215568862275448,
          2.361963190184049,
          2.3091922005571033,
          2.263779527559055,
          2.541935483870968,
          2.3559077809798272,
          2.4642857142857144,
          2.2706766917293235,
          2.2634146341463413,
          2.3385093167701863,
          2.2816326530612243,
          2.18125,
          2.4782608695652173,
          2.2731277533039647,
          2.1517241379310343,
          2.4468085106382977,
          2.1223776223776225,
          2.447619047619048,
          2.5982905982905984,
          2.005714285714286,
          2.1572052401746724,
          2.4594594594594597,
          1.9519230769230769,
          2.1578947368421053,
          2.327731092436975,
          2.230958230958231,
          2.198757763975155,
          2.3507462686567164,
          2.363095238095238,
          2.293906810035842,
          2.1267893660531696,
          2.1753846153846155,
          2.5327868852459017,
          2.171171171171171,
          1.9942196531791907,
          2.1705426356589146,
          2.1772151898734178,
          2.1602914389799635,
          2.276595744680851,
          2.203125,
          2.036082474226804,
          2.00354609929078,
          2.3541666666666665,
          2.3465346534653464,
          2.2373737373737375,
          2.4444444444444446,
          2.146153846153846,
          2.150943396226415,
          2.1871345029239766,
          2.2085308056872037,
          2.0476190476190474,
          2.388888888888889,
          2.37,
          2.2350230414746544,
          2.4066666666666667,
          2.0703125,
          2.08,
          2.25531914893617,
          2.4434782608695653,
          2.2577777777777777,
          2.173076923076923,
          2.2181069958847734,
          2.306603773584906,
          2.316742081447964,
          2.138888888888889,
          2.3059033989266546,
          2.0491803278688523,
          2.1132075471698113,
          2.3877551020408165,
          2.041322314049587,
          2.176470588235294,
          2.372093023255814,
          2.3046092184368736,
          2.224242424242424,
          2.2262773722627736,
          2.129166666666667,
          1.9609375,
          2.2597765363128492,
          2.404109589041096,
          2.1452991452991452,
          2.3364928909952605,
          2.4651162790697674,
          2.1,
          1.9877049180327868,
          2.231075697211155,
          2.0210896309314585,
          2.2554744525547443,
          2.227722772277228,
          2.269662921348315,
          2.1542056074766354,
          2.079625292740047,
          2.227642276422764,
          2.0855018587360594,
          2.1627118644067798,
          2.210526315789474,
          2.369565217391304,
          2.245833333333333,
          1.9567567567567568,
          2.2606060606060607,
          2.4745762711864407,
          2.067901234567901,
          2.237704918032787,
          2.0707964601769913,
          2.467455621301775,
          2.4245810055865924,
          2.4554455445544554,
          2.488479262672811,
          2.4525547445255476,
          2.3597122302158273,
          2.2773972602739727,
          2.2783505154639174,
          2.353982300884956,
          2.2314814814814814,
          2.1794354838709675,
          2.377551020408163,
          2.432584269662921,
          2.0267175572519083,
          2.1146732429099875,
          2.1666666666666665,
          2.183206106870229,
          2.3267326732673266,
          2.3101604278074865,
          2.2867132867132867,
          2.391025641025641,
          2.533707865168539,
          2.3173076923076925,
          2.623853211009174,
          1.990990990990991,
          2.5,
          2.196969696969697,
          2.2402826855123674,
          2.3415841584158414,
          2.2549019607843137,
          2.076923076923077,
          2.302521008403361,
          2.4444444444444446,
          2.5028248587570623,
          2.3179916317991633,
          2.160839160839161,
          2.2598425196850394,
          2.382608695652174,
          2.353711790393013,
          2.4444444444444446,
          2.0427350427350426,
          2.379220779220779,
          2.42603550295858,
          2.212121212121212,
          2.1784386617100373,
          1.9303135888501741,
          2.328822733423545,
          1.9903225806451612,
          2.1145631067961164,
          2.2049689440993787,
          2.504950495049505,
          2.1226415094339623,
          2.6176470588235294,
          2.0777027027027026,
          2.205761316872428,
          2.380952380952381,
          2.678391959798995,
          2.138157894736842,
          2.5641025641025643,
          2.4352941176470586,
          2.021212121212121,
          2.406779661016949,
          2.1619047619047618,
          2.339080459770115,
          2.4721030042918457,
          2.295420974889217,
          2.51,
          2.102189781021898,
          2.2242990654205608,
          1.89247311827957,
          2.3758389261744965,
          2.0084745762711864,
          2.1883289124668437,
          2.433333333333333,
          2.2645011600928076,
          2.3547008547008548,
          2.281094527363184,
          2.4155844155844157,
          2.2290748898678414,
          2.2332361516034984,
          2.272727272727273,
          2.358490566037736,
          2.019607843137255,
          2.190635451505017,
          2.537037037037037,
          2.265625,
          2.128301886792453,
          2.1476510067114094,
          1.8744394618834082,
          2.337142857142857,
          2.0672947510094213,
          2.2044198895027622,
          2.3142857142857145,
          2.5,
          2.198473282442748,
          2.420289855072464,
          2.393103448275862,
          2.1149425287356323,
          2.1553398058252426,
          2.3703703703703702,
          2.1091753774680604,
          2.3043478260869565,
          2.3716814159292037,
          2.206451612903226,
          2.4285714285714284,
          2.0718954248366015,
          2.231607629427793,
          2.576923076923077,
          2.3440860215053765,
          2.4349775784753365,
          2.2222222222222223,
          2.2595744680851064,
          2.257425742574257,
          2.1333333333333333,
          2.1194029850746268,
          2.111111111111111,
          2.2045454545454546,
          2.4613095238095237,
          2.343065693430657,
          2.310810810810811,
          2.2695652173913046,
          2.1887323943661974,
          2.318840579710145,
          2.3277027027027026,
          2.3056379821958455,
          2.1575342465753424,
          2.480565371024735,
          2.026086956521739,
          2.3366336633663365,
          2.1893491124260356,
          2.387654320987654,
          2.232804232804233,
          2.217821782178218,
          2.6126126126126126,
          2.331168831168831,
          2.603960396039604,
          2.417391304347826,
          2.1116751269035534,
          2.1941391941391943,
          2.366336633663366,
          2.3087248322147653,
          2.352112676056338,
          2.178832116788321,
          2.3812316715542523,
          2.3576642335766422,
          2.4529411764705884,
          2.287598944591029,
          2.3346938775510204,
          1.9196428571428572,
          2.2764976958525347,
          1.891089108910891,
          2.3275109170305677,
          2.558282208588957,
          2.25531914893617,
          2.197324414715719,
          2.1627906976744184,
          1.956140350877193,
          1.94,
          2.3790849673202614,
          1.8928571428571428,
          2.2176165803108807,
          2.0111940298507465,
          2.171875,
          2.336,
          2.2941176470588234,
          2.2202643171806167,
          2.0735785953177257,
          2.2836879432624113,
          2.280353200883002,
          2.317829457364341,
          2.334710743801653,
          2.227272727272727,
          2.3801652892561984,
          2.22962962962963,
          2.0434782608695654,
          2.2589285714285716,
          2.3846153846153846,
          2.1041666666666665,
          2.490740740740741,
          2.4601769911504423,
          2.142857142857143,
          2.4036144578313254,
          2.4070796460176993,
          2.15158924205379,
          1.9741784037558685,
          2.365740740740741,
          1.9625,
          2.202626641651032,
          2.226713532513181,
          2.077247191011236,
          2.33587786259542,
          2.294478527607362,
          2.346820809248555,
          2.2109375,
          1.9660056657223797,
          2.0833333333333335,
          2.1641791044776117,
          2.172185430463576,
          2.2402234636871508,
          2.015151515151515,
          2.55,
          2.2992700729927007,
          1.7788461538461537,
          2.126543209876543,
          2.302752293577982,
          2.1333333333333333,
          2.0316455696202533,
          2.282051282051282,
          2.3255813953488373,
          2.052941176470588,
          2.0558659217877095,
          2.2554744525547443,
          2.5580357142857144,
          2.354651162790698,
          2.4271844660194173,
          2.4910714285714284,
          2.378787878787879,
          2.1180555555555554,
          2.2390243902439027,
          2.401805869074492,
          2.192727272727273,
          2.5278969957081543,
          2.1740506329113924,
          2.206060606060606,
          2.4196891191709846,
          2.0535714285714284,
          2.230769230769231,
          1.9223300970873787,
          2.138157894736842,
          2.2555066079295156,
          2.2450980392156863,
          2.2985611510791366,
          2,
          2.197278911564626,
          2.3233830845771144,
          2.273015873015873,
          2.406896551724138,
          2.127659574468085,
          2.126984126984127,
          2.1515151515151514,
          2.088050314465409,
          2.388,
          2.442176870748299,
          2.0825688073394497,
          2.2588235294117647,
          2.3081967213114756,
          2.008403361344538,
          2.427480916030534,
          2.267326732673267,
          2.2271805273833674,
          2.436974789915966,
          2.4292452830188678,
          2.265765765765766,
          2.3665480427046264,
          2.376731301939058,
          2.069182389937107,
          2.1936170212765957,
          2.1463654223968565,
          2.2703862660944205,
          2.1963470319634704,
          2.6271186440677967,
          2.396551724137931,
          2.321266968325792,
          2.4411764705882355,
          2.2402234636871508,
          2.323529411764706,
          2.4896907216494846,
          2.35,
          2.661290322580645,
          2.025,
          2.18978102189781,
          2.3509933774834435,
          2.220183486238532,
          2.371308016877637,
          2.1946902654867255,
          2.361904761904762,
          1.91324200913242,
          2.298611111111111,
          2.2266666666666666,
          2.290909090909091,
          2.1121076233183858,
          2.27012987012987,
          2.46524064171123,
          2.419642857142857,
          2.080385852090032,
          2.411764705882353,
          2.2546583850931676,
          2.150442477876106,
          2.1645021645021645,
          2.2245762711864407,
          2.125,
          2.1736694677871147,
          2.309941520467836,
          2,
          2.282958199356913,
          2.3421052631578947,
          2.1776649746192893,
          2.20625,
          1.8833333333333333,
          2.5546218487394956,
          2.3691275167785233,
          2.2033898305084745,
          2.383177570093458,
          2.2447368421052634,
          2.3736263736263736,
          2.2436781609195404,
          2.3348017621145374,
          2.3703703703703702,
          2.008130081300813,
          2.337078651685393,
          2,
          2.110726643598616,
          2.0757575757575757,
          2.2339181286549707,
          2.3897637795275593,
          2.4031413612565444,
          2.329608938547486,
          2.335570469798658,
          2.2741020793950852,
          2.3969465648854964,
          2.34468085106383,
          2.444987775061125,
          2.3492957746478873,
          2.4025974025974026,
          2.6666666666666665,
          2.4027777777777777,
          2.5035971223021583,
          2.2551724137931033,
          2.55,
          2.253807106598985,
          2.06,
          2.010928961748634,
          2.559090909090909,
          2.2094395280235988,
          2.3142857142857145,
          2.35625,
          2.2934782608695654,
          2.369747899159664,
          2.2267441860465116,
          2.1951219512195124,
          2.142857142857143,
          2.135195530726257,
          2.227027027027027,
          1.875,
          2.3282442748091605,
          2.0230607966457024,
          2.2521008403361344,
          2.125874125874126,
          2.202247191011236,
          2.2145214521452146,
          2.2473867595818815,
          2.243795620437956,
          2.1470588235294117,
          2.38125,
          2.4225352112676055,
          2.425925925925926,
          2.533980582524272,
          2.0291970802919708,
          2.0921985815602837,
          2.088757396449704,
          2.0559006211180124,
          2.3247422680412373,
          2.429718875502008,
          2.4243542435424352,
          2.0686274509803924,
          2.238709677419355,
          2.1313868613138687,
          2.2051282051282053,
          2.0638297872340425,
          2.4823529411764707,
          2.4166666666666665,
          2.392070484581498,
          2.355769230769231,
          2.271523178807947,
          2.4342105263157894,
          2.197278911564626,
          2.321167883211679,
          2.1968085106382977,
          2.3422818791946307,
          2.3066666666666666,
          2.1333333333333333,
          2.0875706214689265,
          2.411764705882353,
          2.440677966101695,
          2.172932330827068,
          2.2857142857142856,
          2.1802816901408453,
          1.8551724137931034,
          2.3455882352941178,
          2.1333333333333333,
          2.2814814814814817,
          2.237623762376238,
          2.109004739336493,
          2.3915343915343916,
          1.9964788732394365,
          2.2635135135135136,
          1.8441295546558705,
          2.0875912408759123,
          2.408,
          2.2402234636871508,
          2.5046728971962615,
          2.4766355140186915,
          2.3684210526315788,
          2.1876750700280114,
          2.569105691056911,
          2.092896174863388,
          2.1746031746031744,
          2.4454545454545453,
          2.1147540983606556,
          2.174825174825175,
          2.1690821256038646,
          2.363095238095238,
          2.5045871559633026,
          2.4396887159533076,
          2.4,
          1.928,
          1.7413793103448276,
          2.1557788944723617,
          2.149193548387097,
          2.3353293413173652,
          2.1881188118811883,
          2.1222707423580784,
          2.1410526315789475,
          2.742690058479532,
          2.20125786163522,
          2.2370689655172415,
          2.0705128205128207,
          2.174917491749175,
          2.2686567164179103,
          2.196078431372549,
          2.2152777777777777,
          2.1926605504587156,
          2.288,
          2.0588235294117645,
          2.2448275862068967,
          2.3304347826086955,
          2.0575539568345325,
          2.3925619834710745,
          2.448453608247423,
          2.365217391304348,
          2.3925619834710745,
          2.135869565217391,
          2.4358974358974357,
          2.4185022026431717,
          2.548076923076923,
          2.3115577889447234,
          2.5546218487394956,
          2.3857142857142857,
          2.1983471074380163,
          2.3117647058823527,
          2.33587786259542,
          2.730769230769231,
          2.2740384615384617,
          2.187279151943463,
          2.533333333333333,
          2.644628099173554,
          2.4647058823529413,
          2.2738336713995944,
          2.4825174825174825,
          2.416243654822335,
          2.355769230769231,
          2.4234234234234235,
          1.981651376146789,
          2.226086956521739,
          2.3394495412844036,
          2.282442748091603,
          2.1703703703703705,
          2.1666666666666665,
          2.423076923076923,
          2.2839506172839505,
          2.4753086419753085,
          2.3839285714285716,
          2.2199312714776633,
          2.3128491620111733,
          2.453846153846154,
          2.238562091503268,
          2.2286995515695067,
          2.319672131147541,
          2.3656387665198237,
          2.2668621700879767,
          2.0409356725146197,
          1.84,
          2.215311004784689,
          2.280141843971631,
          1.96,
          2.2962962962962963,
          2.658333333333333,
          2.094017094017094,
          2.242424242424242,
          2.367088607594937,
          2.1540983606557376,
          2.414285714285714,
          2.5470852017937218,
          2.114864864864865,
          2.1228070175438596,
          2.382716049382716,
          2.0915032679738563,
          2.3107221006564553,
          2.2662337662337664,
          2.148888888888889,
          2.2025316455696204,
          2.203252032520325,
          1.934782608695652,
          2.4514563106796117,
          2.265486725663717,
          2.0402298850574714,
          2.4193548387096775,
          2.1712707182320443,
          2.082802547770701,
          2.3728813559322033,
          2.2282608695652173,
          2.2916666666666665,
          2.144230769230769,
          2.3214285714285716,
          2.2476190476190476,
          2.394160583941606,
          2.262135922330097,
          2.3692307692307693,
          2.089430894308943,
          1.9653179190751444,
          2.419753086419753,
          2.408921933085502,
          2.0840336134453783,
          2.142857142857143,
          2.3963414634146343,
          2.2439862542955327,
          2.2267441860465116,
          2.375968992248062,
          2.346820809248555,
          2.0521739130434784,
          2.45771144278607,
          2.0531914893617023,
          2.4454545454545453,
          2.42,
          2.263157894736842,
          2.3191489361702127,
          2.2992125984251968,
          2.325,
          2.3333333333333335,
          2.267716535433071,
          2.3513513513513513,
          2.4895104895104896,
          2.046242774566474,
          2.2972972972972974,
          2.31055900621118,
          2.2620087336244543,
          2.088235294117647,
          2.2745098039215685,
          1.9213483146067416,
          2.260869565217391,
          2.1954545454545453,
          2.381625441696113,
          2.227642276422764,
          2.3516483516483517,
          2.4731182795698925,
          2.6810344827586206,
          2.1552795031055902,
          2.2349397590361444,
          2.1894736842105265,
          2.154320987654321,
          2.4390243902439024,
          2.366863905325444,
          2.099099099099099,
          2.2212581344902387,
          1.9244444444444444,
          2.226519337016575,
          2.173160173160173,
          2.1333333333333333,
          1.9271255060728745,
          2.158273381294964,
          2.353982300884956,
          2.3541666666666665,
          2.3503649635036497,
          2.222826086956522,
          2.2868852459016393,
          1.9537037037037037,
          2.018867924528302,
          2.25974025974026,
          2.2534562211981566,
          2.3421052631578947,
          2.26271186440678,
          2.184,
          2.190265486725664,
          2.5615384615384613,
          2.326923076923077,
          2.2830687830687832,
          2.311688311688312,
          2.1869158878504673,
          2.316417910447761,
          2.1926605504587156,
          2.4513274336283186,
          2.5,
          2.415807560137457,
          2.2282608695652173,
          2.296,
          2.323170731707317,
          2.5347222222222223,
          2.014644351464435,
          2.1255230125523012,
          2.42603550295858,
          2.276923076923077,
          2.2314814814814814,
          2.1813725490196076,
          2.303030303030303,
          2.6315789473684212,
          2.2521008403361344,
          2.2258953168044076,
          2.247863247863248,
          2.268421052631579,
          2.168627450980392,
          2.1584158415841586,
          2.160919540229885,
          2.0091743119266057,
          2.262295081967213,
          2.49,
          2.397932816537468,
          2.4755244755244754,
          2.4537037037037037,
          2.3618090452261304,
          2.1198501872659175,
          2.4444444444444446,
          2.0268456375838926,
          1.8218390804597702,
          2.314516129032258,
          2.4313725490196076,
          2.303030303030303,
          2.3728323699421967,
          2.1904761904761907,
          2.1377551020408165,
          2.2283813747228383,
          2.2275862068965515,
          2.1578014184397163,
          2.138364779874214,
          2.151898734177215,
          2.3986486486486487,
          2.261146496815287,
          2.4335664335664338,
          2.220125786163522,
          2.2028985507246377,
          2.1810344827586206,
          2.2436974789915967,
          2.21656050955414,
          2.418006430868167,
          2.228426395939086,
          2.269230769230769,
          1.930635838150289,
          2.3189655172413794,
          2.761904761904762,
          2.456445993031359,
          2.210227272727273,
          2.280701754385965,
          2.2712418300653594,
          2.088050314465409,
          2.2198952879581153,
          2.340782122905028,
          2.0881226053639845,
          2.2982456140350878,
          2.242574257425743,
          2.37007874015748,
          2.183206106870229,
          2.3771929824561404,
          2.409090909090909,
          2.4625850340136055,
          2.4402985074626864,
          2.2063492063492065,
          2.2206405693950177,
          2.0237388724035608,
          2.1895910780669143,
          2.075,
          1.9166666666666667,
          2.188311688311688,
          2.366255144032922,
          2.406779661016949,
          2.4051724137931036,
          1.9558823529411764,
          2.309090909090909,
          2.365,
          2.1884057971014492,
          2.3962264150943398,
          2.3365384615384617,
          2.1160714285714284,
          2.4580152671755724,
          1.9669421487603307,
          2.3363636363636364,
          2.466666666666667,
          2.274914089347079,
          2.104895104895105,
          2.462882096069869,
          2.2429906542056073,
          2.110810810810811,
          2.375,
          2.278551532033426,
          1.94,
          2.224,
          2.496969696969697,
          2.2916666666666665,
          2.349462365591398,
          2.5098039215686274,
          2.0413625304136254,
          2.3821656050955413,
          2.009310986964618,
          1.9393139841688654,
          2.275092936802974,
          2.168539325842697,
          2.276190476190476,
          2.1354838709677417,
          2.2063492063492065,
          2.125,
          2.1869158878504673,
          2.0217983651226157,
          2.543103448275862,
          2.287878787878788,
          2.486842105263158,
          2.3161764705882355,
          2.3076923076923075,
          2.315068493150685,
          2.0520833333333335,
          2.6116504854368934,
          2.1682242990654204,
          2.1386861313868613,
          2.2063492063492065,
          2.3463035019455254,
          2.1552795031055902,
          2.3660714285714284,
          2.145533141210375,
          2.3049645390070923,
          2.411764705882353,
          2.247863247863248,
          2.102783725910064,
          2.491228070175439,
          2.610169491525424,
          2.1530864197530866,
          2.0106382978723403,
          2.1842105263157894,
          2.1271676300578033,
          2.1595744680851063,
          2.1171171171171173,
          2.3448275862068964,
          2.0619047619047617,
          2.280701754385965,
          2.3022388059701493,
          2.1434977578475336,
          2.219047619047619,
          2.3363636363636364,
          2.157608695652174,
          2.309734513274336,
          2.5892857142857144,
          2.3263157894736843,
          2.371859296482412,
          2.201923076923077,
          2.271493212669683,
          2.3923076923076922,
          2.360169491525424,
          2.4363636363636365,
          2.169491525423729,
          1.9419525065963061,
          2.3785166240409206,
          2.2718446601941746,
          2.432926829268293,
          2.5511811023622046,
          2.1827160493827162,
          2.25968992248062,
          2.5714285714285716,
          2.3248175182481754,
          2.2413793103448274,
          2.3137996219281662,
          2.0502092050209204,
          2.216,
          2.2181069958847734,
          2.43030303030303,
          2.2842105263157895,
          2.1352785145888595,
          2.4192139737991267,
          1.9486238532110092,
          2.3435114503816794,
          2.288961038961039,
          2.4424778761061945,
          2.2645739910313902,
          2.3529411764705883,
          2.3596059113300494,
          2.0829694323144103,
          2.184357541899441,
          2.2941176470588234,
          2.5833333333333335,
          2.055350553505535,
          2.257425742574257,
          2.257142857142857,
          2.4640522875816995,
          2.175324675324675,
          2.3333333333333335,
          2.6097560975609757,
          1.9460154241645244,
          2.3076923076923075,
          2.268292682926829,
          2.3364055299539173,
          2.2118226600985222,
          2.0217391304347827,
          2.2237762237762237,
          1.7963917525773196,
          2.1875,
          2.4166666666666665,
          2.174757281553398,
          2.354248366013072,
          2.1363636363636362,
          2.2195121951219514,
          2.411764705882353,
          2.209775967413442,
          2.159851301115242,
          2.3955223880597014,
          1.9797101449275363,
          2.3137697516930023,
          2.408450704225352,
          2.0751445086705202,
          2.0892857142857144,
          2.347826086956522,
          2.2295081967213113,
          2.2142857142857144,
          2.1416666666666666,
          2.2869565217391306,
          2.340770791075051,
          2.156862745098039,
          2.3825857519788918,
          2.220496894409938,
          2.39375,
          2.1574074074074074,
          2.491329479768786,
          2.2028985507246377,
          2.18859649122807,
          2.4036144578313254,
          2.4210526315789473,
          2.2690058479532165,
          2.3157894736842106,
          2.361607142857143,
          2.0207253886010363,
          2.386178861788618,
          2.152173913043478,
          1.9495412844036697,
          2.3154761904761907,
          2.3,
          2.3981481481481484,
          2.430379746835443,
          2.2758620689655173,
          2.3217054263565893,
          1.9959839357429718,
          2.274336283185841,
          2.3154761904761907,
          2.265486725663717,
          2.4894736842105263,
          2.2641509433962264,
          2.018348623853211,
          2.161111111111111,
          2.3333333333333335,
          2.1913043478260867,
          2.272727272727273,
          1.9421487603305785,
          2.357142857142857,
          2.2466367713004485,
          2.4695121951219514,
          2.057915057915058,
          2.4146341463414633,
          2.148496240601504,
          2.5195530726256985,
          2.1752577319587627,
          2.533333333333333,
          2.408333333333333,
          1.8514851485148516,
          2.0588235294117645,
          2.0953800298062593,
          2.191860465116279,
          2.1150895140664963,
          2.415954415954416,
          2.211340206185567,
          2.1870503597122304,
          2.051111111111111,
          2.35625,
          2.1193548387096772,
          2.182142857142857,
          2.590909090909091,
          2.19164265129683,
          2.0514285714285716,
          2.248031496062992,
          2.263392857142857,
          2.4262295081967213,
          2.118811881188119,
          2.2254335260115607,
          2.753968253968254,
          2.2208588957055215,
          2.416370106761566,
          2.435185185185185,
          2.0646900269541777,
          2.231671554252199,
          2.222857142857143,
          2.3228070175438598,
          2.0625,
          2.3642857142857143,
          2.328719723183391,
          2.1729106628242074,
          2.267123287671233,
          1.9603399433427762,
          2.4356435643564356,
          2.3533834586466167,
          1.9376854599406528,
          2.1267123287671232,
          2.4324324324324325,
          2.3545454545454545,
          2.210144927536232,
          2.3446601941747574,
          2.3450704225352115,
          2.4714285714285715,
          1.9053254437869822,
          1.9745762711864407,
          2.2649006622516556,
          2.2487562189054726,
          2.2467532467532467,
          2.435185185185185,
          2.181318681318681,
          2.3089430894308944,
          2.5130434782608697,
          2.2295719844357977,
          2.135,
          2.6576576576576576,
          2.1837837837837837,
          2.047872340425532,
          2.0693069306930694,
          1.9745762711864407,
          2.198529411764706,
          2.2564102564102564,
          2.109090909090909,
          2.0555555555555554,
          2.008130081300813,
          2.2493438320209975,
          2.2209567198177678,
          2.1885245901639343,
          2.180451127819549,
          2.462857142857143,
          1.8235294117647058,
          2.253968253968254,
          2.109278350515464,
          2.1983471074380163,
          2.1350710900473935,
          2.1923076923076925,
          2.3465346534653464,
          2.351170568561873,
          2.2459016393442623,
          2.3191489361702127,
          2.1335740072202167,
          2.3233082706766917,
          2.315270935960591,
          2.1792114695340503,
          2.286764705882353,
          2.3846153846153846,
          2.326241134751773,
          2.31203007518797,
          2.0767441860465117,
          2.2295805739514347,
          2.2054054054054055,
          2.1,
          2.3469387755102042,
          2.3773584905660377,
          2.165562913907285,
          2.1538461538461537,
          2.1506024096385543,
          2.197879858657244,
          2.371794871794872,
          2.375,
          2.5166666666666666,
          2.304093567251462,
          2.2348993288590604,
          2.205263157894737,
          2.5754716981132075,
          2.396135265700483,
          2.2182254196642686,
          2.3684210526315788,
          2.4170403587443947,
          2.2857142857142856,
          2.15,
          2.373665480427046,
          2.2815533980582523,
          2.15311004784689,
          2.154727793696275,
          2.2464788732394365,
          2.396039603960396,
          2.6283783783783785,
          2.201550387596899,
          2.238532110091743,
          2.497076023391813,
          2.144186046511628,
          2.3208955223880596,
          2.2738095238095237,
          1.9629080118694362,
          2.228144989339019,
          2.12,
          2.3114754098360657,
          2.215311004784689,
          2.284090909090909,
          2.139393939393939,
          2.4051724137931036,
          1.9567567567567568,
          2.3515625,
          2.159090909090909,
          2.294911734164071,
          2.3503649635036497,
          2.1610169491525424,
          2.00990099009901,
          2.385321100917431,
          2.2857142857142856,
          2.1864406779661016,
          2.4802631578947367,
          2.6056338028169015,
          2.4375,
          2.1070496083550916,
          2.2386363636363638,
          2.211693548387097,
          2.1412213740458017,
          2.2477064220183487,
          2.345679012345679,
          2.5384615384615383,
          2.2342007434944238,
          2.3550724637681157,
          2.257575757575758,
          2.323809523809524,
          2.2056737588652484,
          2.4174454828660434,
          2.28,
          2.0294117647058822,
          2.291208791208791,
          2.2027027027027026,
          2.246376811594203,
          2.107142857142857,
          2.3727272727272726,
          2.5588235294117645,
          2.359550561797753,
          2.1363636363636362,
          2.2181818181818183,
          2.2716535433070866,
          2.2516129032258063,
          2.2738853503184715,
          2.1844660194174756,
          2.385214007782101,
          2.038216560509554,
          2.2992125984251968,
          2.133640552995392,
          2.139784946236559,
          2,
          2.231578947368421,
          2.449404761904762,
          2.4457142857142857,
          2.314741035856574,
          2.283433133732535,
          2.073446327683616,
          2.217821782178218,
          2.2790697674418605,
          2.1603053435114505,
          2.278969957081545,
          2.1767857142857143,
          2.332173913043478,
          2.5981308411214954,
          2.201219512195122,
          2.6639344262295084,
          2.23728813559322,
          2.403669724770642,
          2.165137614678899,
          2.0306748466257667,
          2.1553030303030303,
          2.3568464730290457,
          2.1666666666666665,
          2.371308016877637,
          2.246376811594203,
          2.279017857142857,
          2.284313725490196,
          2.074829931972789,
          2.121212121212121,
          2.225806451612903,
          2.2383177570093458,
          2.201923076923077,
          2.2595419847328246,
          2.4414893617021276,
          2.2035928143712575,
          2.4548494983277593,
          2.443609022556391,
          2.182795698924731,
          2.480916030534351,
          2.125904486251809,
          2.134782608695652,
          2.4529411764705884,
          2.33587786259542,
          2.3214285714285716,
          2.4266666666666667,
          2.2686567164179103,
          2.149532710280374,
          2.2806122448979593,
          2.3455882352941178,
          2.389937106918239,
          2.260355029585799,
          2.198830409356725,
          2.4622641509433962,
          2.247457627118644,
          2.448186528497409,
          2.257142857142857,
          2.2386363636363638,
          2.180327868852459,
          2.2994350282485874,
          2.2818181818181817,
          2.1446540880503147,
          2.423841059602649,
          1.9795918367346939,
          2.2807881773399017,
          2.3627450980392157,
          2.014018691588785,
          2.4594594594594597,
          2.150485436893204,
          2.1982758620689653,
          2.114688128772636,
          2.263392857142857,
          2.513089005235602,
          2.392,
          1.8066465256797584,
          2.5254237288135593,
          2.560747663551402,
          1.9722222222222223,
          2.309090909090909,
          2.2512820512820513,
          2.3366666666666664,
          2.283333333333333,
          2.2888888888888888,
          2.1927710843373496,
          2,
          2.6417910447761193,
          2.416267942583732,
          2.25,
          2.278084714548803,
          2.3448275862068964,
          2.276029055690073,
          2.4,
          2.4263565891472867,
          2.3627450980392157,
          2.2486486486486488,
          2.423357664233577,
          2.2857142857142856,
          2.1691542288557213,
          2.342857142857143,
          2.4527027027027026,
          2.3870967741935485,
          2.419642857142857,
          2.6666666666666665,
          2.134782608695652,
          2.415492957746479,
          2.330188679245283,
          2.3294797687861273,
          2.2202380952380953,
          2.336448598130841,
          2.4027777777777777,
          2.464114832535885,
          2,
          2.7327586206896552,
          2.2657142857142856,
          2.1934865900383143,
          2.2264150943396226,
          2.377049180327869,
          2.1314102564102564,
          2.141732283464567,
          2.3333333333333335,
          2.2971014492753623,
          2.423076923076923,
          2.5985401459854014,
          2.3333333333333335,
          2.1055555555555556,
          2.523076923076923,
          2.3220338983050848,
          2.283333333333333,
          2.3146853146853146,
          2.398860398860399,
          2.374269005847953,
          2.1181102362204722,
          2.630252100840336,
          2.3303964757709252,
          2.218884120171674,
          2.5157232704402515,
          2.4726027397260273,
          2.3577981651376145,
          2.3733333333333335,
          2.623076923076923,
          2.3555555555555556,
          2.3653846153846154,
          2.3873873873873874,
          2.3622047244094486,
          2.2475247524752477,
          2.1875,
          2.576923076923077,
          2.694915254237288,
          2.3980582524271843,
          2.161290322580645,
          2.1607142857142856,
          2.1538461538461537,
          2.2666666666666666,
          2.402684563758389,
          2.46875,
          2.3181818181818183,
          2.1254355400696863,
          2.392,
          2.550561797752809,
          2.424778761061947,
          2.5076923076923077,
          2.2788461538461537,
          2.190661478599222,
          2.2426470588235294,
          2.231707317073171,
          2.267379679144385,
          2.2941176470588234,
          2.0594059405940595,
          2.0402414486921527,
          2.1981981981981984,
          2.353448275862069,
          2.414285714285714,
          2.1944444444444446,
          2.3620689655172415,
          2.2797202797202796,
          2.268595041322314,
          2.4260869565217393,
          2.3738601823708207,
          2.4310344827586206,
          2.4125874125874125,
          2.201923076923077,
          2.176470588235294,
          2.10752688172043,
          2.2773722627737225,
          2.306451612903226,
          2.029268292682927,
          2.3121951219512193,
          2.279352226720648,
          2.1871657754010694,
          2.5811965811965814,
          2.3359375,
          2.3676470588235294,
          2.3398058252427183,
          2.315315315315315,
          2.3716216216216215,
          2.3285198555956677,
          2.210772833723653,
          2.25531914893617,
          2.4552845528455283,
          2.2434210526315788,
          1.8287671232876712,
          2.452991452991453,
          2.61,
          2.2754491017964074,
          2.358267716535433,
          2.229813664596273,
          2.457516339869281,
          2.330275229357798,
          2.425,
          2.2955974842767297,
          2.0476190476190474,
          2.166189111747851,
          2.269767441860465,
          2.1932059447983017,
          1.8932584269662922,
          2.097902097902098,
          2.2522522522522523,
          2.3457943925233646,
          2.4625,
          2.2511627906976743,
          2.1951219512195124,
          2.2882882882882885,
          2.097297297297297,
          2.2217898832684826,
          2.371584699453552,
          2.029126213592233,
          2.0842105263157893,
          2.2260273972602738,
          2.4803149606299213,
          2.3248407643312103,
          2.106918238993711,
          2.1055555555555556,
          2.165562913907285,
          2.1478260869565218,
          2.037974683544304,
          2.279816513761468,
          2.276923076923077,
          2.2569832402234637,
          2.3134328358208953,
          2.139130434782609,
          2.238532110091743,
          2.3597560975609757,
          2.0351758793969847,
          2.1488095238095237,
          2.2339055793991416,
          2.1578947368421053,
          2.48125,
          2.088082901554404,
          2.4732142857142856,
          2.4157303370786516,
          2.35195530726257,
          2.2413793103448274,
          2.0549450549450547,
          2.3238636363636362,
          2.2660550458715596,
          2.248,
          2.3941176470588235,
          2.2,
          2.3308823529411766,
          2.347826086956522,
          2.2062350119904077,
          2.2534246575342465,
          2.365217391304348,
          2.210843373493976,
          2.1517241379310343,
          2.212121212121212,
          2.3680781758957656,
          2.323404255319149,
          2.415929203539823,
          2.4958677685950414,
          2.1928934010152283,
          2.2777777777777777,
          2.342857142857143,
          2.0551181102362204,
          2.225806451612903,
          2.47787610619469,
          2.3264604810996565,
          2.1052631578947367,
          2.268181818181818,
          2.1845238095238093,
          2.1519607843137254,
          2.492957746478873,
          2.3636363636363638,
          2.3208955223880596,
          2.3727272727272726,
          2.324200913242009,
          2.4596774193548385,
          2.1463414634146343,
          2.2838983050847457,
          2.155,
          2.4152542372881354,
          2.1677852348993287,
          2.336,
          2.193548387096774,
          1.891089108910891,
          2.201923076923077,
          2.2485207100591715,
          2.207373271889401,
          2.42,
          2.147286821705426,
          2.2916666666666665,
          2.0833333333333335,
          2.08,
          2.3333333333333335,
          2.4101123595505616,
          2.1604938271604937,
          2.4338235294117645,
          2.3480176211453743,
          1.9702970297029703,
          2.628205128205128,
          2.4583333333333335,
          2.391891891891892,
          1.9774011299435028,
          2.4305555555555554,
          2.427860696517413,
          2.08955223880597,
          2.3741007194244603,
          2.2672413793103448,
          1.9409282700421941,
          2.142857142857143,
          2.262135922330097,
          2.187311178247734,
          2.086387434554974,
          2.081967213114754,
          2.5568181818181817,
          2.2806122448979593,
          2.675925925925926,
          2.2833876221498373,
          2.1732673267326734,
          2.271604938271605,
          2.181318681318681,
          2.4,
          2.1049562682215743,
          2.4132841328413286,
          2.2222222222222223,
          2.295238095238095,
          2.322314049586777,
          2.548611111111111,
          2.2451612903225806,
          2.3375,
          2.6470588235294117,
          1.7883211678832116,
          2.2711864406779663,
          2.1682242990654204,
          2.3508771929824563,
          2.2153846153846155,
          2.664772727272727,
          2.1346153846153846,
          2.25974025974026,
          2.146067415730337,
          2.3542600896860986,
          2.19327731092437,
          2.237704918032787,
          2.4695652173913043,
          1.823008849557522,
          2.15,
          2.140127388535032,
          2.167883211678832,
          2.0620525059665873,
          2.4043715846994536,
          2.1231884057971016,
          2.1923076923076925,
          2.3419354838709676,
          2.257425742574257,
          2.1456521739130436,
          2.5197368421052633,
          2.07185628742515,
          2.288381742738589,
          2.0663176265270504,
          2.2662337662337664,
          2.4344262295081966,
          1.8132530120481927,
          2.4047619047619047,
          2.4723926380368098,
          2.2452830188679247,
          2.037593984962406,
          2.2681159420289854,
          2.1835443037974684,
          2.472361809045226,
          2.2138364779874213,
          2.3284671532846715,
          2.0932944606413995,
          2.234042553191489,
          1.738255033557047,
          2.2285714285714286,
          2.3957219251336896,
          2.1538461538461537,
          2.283333333333333,
          2.3035714285714284,
          2,
          2.1578947368421053,
          2.4761904761904763,
          2.2808988764044944,
          2.2661290322580645,
          2.616,
          2.1864406779661016,
          2.213389121338912,
          2.2063492063492065,
          2.3333333333333335,
          2.305084745762712,
          2.362369337979094,
          2.312121212121212,
          2.037313432835821,
          2.430379746835443,
          2.2581453634085213,
          2.3185185185185184,
          2.2,
          2.382978723404255,
          2.42,
          2.2651162790697676,
          2.253623188405797,
          2.3314917127071824,
          2.5211864406779663,
          2.0301724137931036,
          2.422222222222222,
          2.0454545454545454,
          2.1707988980716255,
          2.3333333333333335,
          2.5847457627118646,
          2.272727272727273,
          2.3326653306613228,
          2.218954248366013,
          2.220472440944882,
          2.3264462809917354,
          2.179153094462541,
          2.4153846153846152,
          2.292307692307692,
          2.5502645502645502,
          2.1322314049586777,
          2.265765765765766,
          2.3786008230452675,
          2.25,
          2.223175965665236,
          2.245614035087719,
          2.596638655462185,
          2.4423076923076925,
          2.533980582524272,
          2.4420289855072466,
          2.156756756756757,
          2.135693215339233,
          2.2570754716981134,
          2.0943396226415096,
          2.302583025830258,
          2.1466275659824046,
          2.4554973821989527,
          1.9344262295081966,
          2.158333333333333,
          2.2875,
          2.2944297082228116,
          2.425196850393701,
          2.2302158273381294,
          2.3389830508474576,
          2.3140495867768593,
          2.3421052631578947,
          2.378640776699029,
          2.3424657534246576,
          2.3904761904761904,
          1.9618320610687023,
          2.141831238779174,
          2.2475728155339807,
          2.37125748502994,
          2.282608695652174,
          2.458715596330275,
          2.2485549132947975,
          2.1771771771771773,
          2.2520661157024793,
          2.1328125,
          2.171806167400881,
          2.3728813559322033,
          2.484472049689441,
          2.3511904761904763,
          2.4563106796116503,
          2.25531914893617,
          2.1387900355871885,
          2.3813559322033897,
          2.3076923076923075,
          2.3666666666666667,
          2.097142857142857,
          2.23728813559322,
          2.2095238095238097,
          2.31936127744511,
          2.3178807947019866,
          2.0264900662251657,
          2.262645914396887,
          2.5327868852459017,
          2.2777777777777777
         ],
         "xaxis": "x",
         "yaxis": "y"
        }
       ],
       "layout": {
        "barmode": "relative",
        "legend": {
         "title": {
          "text": "variable"
         },
         "tracegroupgap": 0
        },
        "margin": {
         "t": 60
        },
        "template": {
         "data": {
          "bar": [
           {
            "error_x": {
             "color": "#2a3f5f"
            },
            "error_y": {
             "color": "#2a3f5f"
            },
            "marker": {
             "line": {
              "color": "#E5ECF6",
              "width": 0.5
             },
             "pattern": {
              "fillmode": "overlay",
              "size": 10,
              "solidity": 0.2
             }
            },
            "type": "bar"
           }
          ],
          "barpolar": [
           {
            "marker": {
             "line": {
              "color": "#E5ECF6",
              "width": 0.5
             },
             "pattern": {
              "fillmode": "overlay",
              "size": 10,
              "solidity": 0.2
             }
            },
            "type": "barpolar"
           }
          ],
          "carpet": [
           {
            "aaxis": {
             "endlinecolor": "#2a3f5f",
             "gridcolor": "white",
             "linecolor": "white",
             "minorgridcolor": "white",
             "startlinecolor": "#2a3f5f"
            },
            "baxis": {
             "endlinecolor": "#2a3f5f",
             "gridcolor": "white",
             "linecolor": "white",
             "minorgridcolor": "white",
             "startlinecolor": "#2a3f5f"
            },
            "type": "carpet"
           }
          ],
          "choropleth": [
           {
            "colorbar": {
             "outlinewidth": 0,
             "ticks": ""
            },
            "type": "choropleth"
           }
          ],
          "contour": [
           {
            "colorbar": {
             "outlinewidth": 0,
             "ticks": ""
            },
            "colorscale": [
             [
              0,
              "#0d0887"
             ],
             [
              0.1111111111111111,
              "#46039f"
             ],
             [
              0.2222222222222222,
              "#7201a8"
             ],
             [
              0.3333333333333333,
              "#9c179e"
             ],
             [
              0.4444444444444444,
              "#bd3786"
             ],
             [
              0.5555555555555556,
              "#d8576b"
             ],
             [
              0.6666666666666666,
              "#ed7953"
             ],
             [
              0.7777777777777778,
              "#fb9f3a"
             ],
             [
              0.8888888888888888,
              "#fdca26"
             ],
             [
              1,
              "#f0f921"
             ]
            ],
            "type": "contour"
           }
          ],
          "contourcarpet": [
           {
            "colorbar": {
             "outlinewidth": 0,
             "ticks": ""
            },
            "type": "contourcarpet"
           }
          ],
          "heatmap": [
           {
            "colorbar": {
             "outlinewidth": 0,
             "ticks": ""
            },
            "colorscale": [
             [
              0,
              "#0d0887"
             ],
             [
              0.1111111111111111,
              "#46039f"
             ],
             [
              0.2222222222222222,
              "#7201a8"
             ],
             [
              0.3333333333333333,
              "#9c179e"
             ],
             [
              0.4444444444444444,
              "#bd3786"
             ],
             [
              0.5555555555555556,
              "#d8576b"
             ],
             [
              0.6666666666666666,
              "#ed7953"
             ],
             [
              0.7777777777777778,
              "#fb9f3a"
             ],
             [
              0.8888888888888888,
              "#fdca26"
             ],
             [
              1,
              "#f0f921"
             ]
            ],
            "type": "heatmap"
           }
          ],
          "heatmapgl": [
           {
            "colorbar": {
             "outlinewidth": 0,
             "ticks": ""
            },
            "colorscale": [
             [
              0,
              "#0d0887"
             ],
             [
              0.1111111111111111,
              "#46039f"
             ],
             [
              0.2222222222222222,
              "#7201a8"
             ],
             [
              0.3333333333333333,
              "#9c179e"
             ],
             [
              0.4444444444444444,
              "#bd3786"
             ],
             [
              0.5555555555555556,
              "#d8576b"
             ],
             [
              0.6666666666666666,
              "#ed7953"
             ],
             [
              0.7777777777777778,
              "#fb9f3a"
             ],
             [
              0.8888888888888888,
              "#fdca26"
             ],
             [
              1,
              "#f0f921"
             ]
            ],
            "type": "heatmapgl"
           }
          ],
          "histogram": [
           {
            "marker": {
             "pattern": {
              "fillmode": "overlay",
              "size": 10,
              "solidity": 0.2
             }
            },
            "type": "histogram"
           }
          ],
          "histogram2d": [
           {
            "colorbar": {
             "outlinewidth": 0,
             "ticks": ""
            },
            "colorscale": [
             [
              0,
              "#0d0887"
             ],
             [
              0.1111111111111111,
              "#46039f"
             ],
             [
              0.2222222222222222,
              "#7201a8"
             ],
             [
              0.3333333333333333,
              "#9c179e"
             ],
             [
              0.4444444444444444,
              "#bd3786"
             ],
             [
              0.5555555555555556,
              "#d8576b"
             ],
             [
              0.6666666666666666,
              "#ed7953"
             ],
             [
              0.7777777777777778,
              "#fb9f3a"
             ],
             [
              0.8888888888888888,
              "#fdca26"
             ],
             [
              1,
              "#f0f921"
             ]
            ],
            "type": "histogram2d"
           }
          ],
          "histogram2dcontour": [
           {
            "colorbar": {
             "outlinewidth": 0,
             "ticks": ""
            },
            "colorscale": [
             [
              0,
              "#0d0887"
             ],
             [
              0.1111111111111111,
              "#46039f"
             ],
             [
              0.2222222222222222,
              "#7201a8"
             ],
             [
              0.3333333333333333,
              "#9c179e"
             ],
             [
              0.4444444444444444,
              "#bd3786"
             ],
             [
              0.5555555555555556,
              "#d8576b"
             ],
             [
              0.6666666666666666,
              "#ed7953"
             ],
             [
              0.7777777777777778,
              "#fb9f3a"
             ],
             [
              0.8888888888888888,
              "#fdca26"
             ],
             [
              1,
              "#f0f921"
             ]
            ],
            "type": "histogram2dcontour"
           }
          ],
          "mesh3d": [
           {
            "colorbar": {
             "outlinewidth": 0,
             "ticks": ""
            },
            "type": "mesh3d"
           }
          ],
          "parcoords": [
           {
            "line": {
             "colorbar": {
              "outlinewidth": 0,
              "ticks": ""
             }
            },
            "type": "parcoords"
           }
          ],
          "pie": [
           {
            "automargin": true,
            "type": "pie"
           }
          ],
          "scatter": [
           {
            "fillpattern": {
             "fillmode": "overlay",
             "size": 10,
             "solidity": 0.2
            },
            "type": "scatter"
           }
          ],
          "scatter3d": [
           {
            "line": {
             "colorbar": {
              "outlinewidth": 0,
              "ticks": ""
             }
            },
            "marker": {
             "colorbar": {
              "outlinewidth": 0,
              "ticks": ""
             }
            },
            "type": "scatter3d"
           }
          ],
          "scattercarpet": [
           {
            "marker": {
             "colorbar": {
              "outlinewidth": 0,
              "ticks": ""
             }
            },
            "type": "scattercarpet"
           }
          ],
          "scattergeo": [
           {
            "marker": {
             "colorbar": {
              "outlinewidth": 0,
              "ticks": ""
             }
            },
            "type": "scattergeo"
           }
          ],
          "scattergl": [
           {
            "marker": {
             "colorbar": {
              "outlinewidth": 0,
              "ticks": ""
             }
            },
            "type": "scattergl"
           }
          ],
          "scattermapbox": [
           {
            "marker": {
             "colorbar": {
              "outlinewidth": 0,
              "ticks": ""
             }
            },
            "type": "scattermapbox"
           }
          ],
          "scatterpolar": [
           {
            "marker": {
             "colorbar": {
              "outlinewidth": 0,
              "ticks": ""
             }
            },
            "type": "scatterpolar"
           }
          ],
          "scatterpolargl": [
           {
            "marker": {
             "colorbar": {
              "outlinewidth": 0,
              "ticks": ""
             }
            },
            "type": "scatterpolargl"
           }
          ],
          "scatterternary": [
           {
            "marker": {
             "colorbar": {
              "outlinewidth": 0,
              "ticks": ""
             }
            },
            "type": "scatterternary"
           }
          ],
          "surface": [
           {
            "colorbar": {
             "outlinewidth": 0,
             "ticks": ""
            },
            "colorscale": [
             [
              0,
              "#0d0887"
             ],
             [
              0.1111111111111111,
              "#46039f"
             ],
             [
              0.2222222222222222,
              "#7201a8"
             ],
             [
              0.3333333333333333,
              "#9c179e"
             ],
             [
              0.4444444444444444,
              "#bd3786"
             ],
             [
              0.5555555555555556,
              "#d8576b"
             ],
             [
              0.6666666666666666,
              "#ed7953"
             ],
             [
              0.7777777777777778,
              "#fb9f3a"
             ],
             [
              0.8888888888888888,
              "#fdca26"
             ],
             [
              1,
              "#f0f921"
             ]
            ],
            "type": "surface"
           }
          ],
          "table": [
           {
            "cells": {
             "fill": {
              "color": "#EBF0F8"
             },
             "line": {
              "color": "white"
             }
            },
            "header": {
             "fill": {
              "color": "#C8D4E3"
             },
             "line": {
              "color": "white"
             }
            },
            "type": "table"
           }
          ]
         },
         "layout": {
          "annotationdefaults": {
           "arrowcolor": "#2a3f5f",
           "arrowhead": 0,
           "arrowwidth": 1
          },
          "autotypenumbers": "strict",
          "coloraxis": {
           "colorbar": {
            "outlinewidth": 0,
            "ticks": ""
           }
          },
          "colorscale": {
           "diverging": [
            [
             0,
             "#8e0152"
            ],
            [
             0.1,
             "#c51b7d"
            ],
            [
             0.2,
             "#de77ae"
            ],
            [
             0.3,
             "#f1b6da"
            ],
            [
             0.4,
             "#fde0ef"
            ],
            [
             0.5,
             "#f7f7f7"
            ],
            [
             0.6,
             "#e6f5d0"
            ],
            [
             0.7,
             "#b8e186"
            ],
            [
             0.8,
             "#7fbc41"
            ],
            [
             0.9,
             "#4d9221"
            ],
            [
             1,
             "#276419"
            ]
           ],
           "sequential": [
            [
             0,
             "#0d0887"
            ],
            [
             0.1111111111111111,
             "#46039f"
            ],
            [
             0.2222222222222222,
             "#7201a8"
            ],
            [
             0.3333333333333333,
             "#9c179e"
            ],
            [
             0.4444444444444444,
             "#bd3786"
            ],
            [
             0.5555555555555556,
             "#d8576b"
            ],
            [
             0.6666666666666666,
             "#ed7953"
            ],
            [
             0.7777777777777778,
             "#fb9f3a"
            ],
            [
             0.8888888888888888,
             "#fdca26"
            ],
            [
             1,
             "#f0f921"
            ]
           ],
           "sequentialminus": [
            [
             0,
             "#0d0887"
            ],
            [
             0.1111111111111111,
             "#46039f"
            ],
            [
             0.2222222222222222,
             "#7201a8"
            ],
            [
             0.3333333333333333,
             "#9c179e"
            ],
            [
             0.4444444444444444,
             "#bd3786"
            ],
            [
             0.5555555555555556,
             "#d8576b"
            ],
            [
             0.6666666666666666,
             "#ed7953"
            ],
            [
             0.7777777777777778,
             "#fb9f3a"
            ],
            [
             0.8888888888888888,
             "#fdca26"
            ],
            [
             1,
             "#f0f921"
            ]
           ]
          },
          "colorway": [
           "#636efa",
           "#EF553B",
           "#00cc96",
           "#ab63fa",
           "#FFA15A",
           "#19d3f3",
           "#FF6692",
           "#B6E880",
           "#FF97FF",
           "#FECB52"
          ],
          "font": {
           "color": "#2a3f5f"
          },
          "geo": {
           "bgcolor": "white",
           "lakecolor": "white",
           "landcolor": "#E5ECF6",
           "showlakes": true,
           "showland": true,
           "subunitcolor": "white"
          },
          "hoverlabel": {
           "align": "left"
          },
          "hovermode": "closest",
          "mapbox": {
           "style": "light"
          },
          "paper_bgcolor": "white",
          "plot_bgcolor": "#E5ECF6",
          "polar": {
           "angularaxis": {
            "gridcolor": "white",
            "linecolor": "white",
            "ticks": ""
           },
           "bgcolor": "#E5ECF6",
           "radialaxis": {
            "gridcolor": "white",
            "linecolor": "white",
            "ticks": ""
           }
          },
          "scene": {
           "xaxis": {
            "backgroundcolor": "#E5ECF6",
            "gridcolor": "white",
            "gridwidth": 2,
            "linecolor": "white",
            "showbackground": true,
            "ticks": "",
            "zerolinecolor": "white"
           },
           "yaxis": {
            "backgroundcolor": "#E5ECF6",
            "gridcolor": "white",
            "gridwidth": 2,
            "linecolor": "white",
            "showbackground": true,
            "ticks": "",
            "zerolinecolor": "white"
           },
           "zaxis": {
            "backgroundcolor": "#E5ECF6",
            "gridcolor": "white",
            "gridwidth": 2,
            "linecolor": "white",
            "showbackground": true,
            "ticks": "",
            "zerolinecolor": "white"
           }
          },
          "shapedefaults": {
           "line": {
            "color": "#2a3f5f"
           }
          },
          "ternary": {
           "aaxis": {
            "gridcolor": "white",
            "linecolor": "white",
            "ticks": ""
           },
           "baxis": {
            "gridcolor": "white",
            "linecolor": "white",
            "ticks": ""
           },
           "bgcolor": "#E5ECF6",
           "caxis": {
            "gridcolor": "white",
            "linecolor": "white",
            "ticks": ""
           }
          },
          "title": {
           "x": 0.05
          },
          "xaxis": {
           "automargin": true,
           "gridcolor": "white",
           "linecolor": "white",
           "ticks": "",
           "title": {
            "standoff": 15
           },
           "zerolinecolor": "white",
           "zerolinewidth": 2
          },
          "yaxis": {
           "automargin": true,
           "gridcolor": "white",
           "linecolor": "white",
           "ticks": "",
           "title": {
            "standoff": 15
           },
           "zerolinecolor": "white",
           "zerolinewidth": 2
          }
         }
        },
        "xaxis": {
         "anchor": "y",
         "domain": [
          0,
          1
         ],
         "title": {
          "text": "value"
         }
        },
        "yaxis": {
         "anchor": "x",
         "domain": [
          0,
          1
         ],
         "title": {
          "text": "count"
         }
        }
       }
      }
     },
     "metadata": {},
     "output_type": "display_data"
    }
   ],
   "source": [
    "df_clustered_eligible.groupby('User_ID')['Cluster'].agg(['mean', 'std', 'count'])['mean'].hist()"
   ]
  },
  {
   "cell_type": "markdown",
   "metadata": {},
   "source": [
    "## Investigate product categories"
   ]
  },
  {
   "cell_type": "markdown",
   "metadata": {},
   "source": [
    "A product can fall into a minimum of one and a maximum of three categories, represented by columns `Product_Category_1`, `Product_Category_2` and `Product_Category_3`, where the second and third column have values missing. There are 20 different product categories, represented by integers from 1 to 20.\n",
    "\n",
    "The missing values need to be handled before entering a model, and we need to investigate the features to be able to handle them correctly, without corrupting the data in any way."
   ]
  },
  {
   "cell_type": "markdown",
   "metadata": {},
   "source": [
    "We start by plotting the distribution of the number of categories a purchased product falls into. If most purchased products would fall into a maximum of, for example, 2 categories, we could simply decide to drop the mostly empty third column.\n",
    "\n",
    "Note that each purchase of a product is considered in this statistic, hence a single product can contribute several times to the total. This makes sense because of how will the data be handled within the model.\n",
    "\n",
    "The distribution of number of categories in purchased products looks as follows."
   ]
  },
  {
   "cell_type": "code",
   "execution_count": null,
   "metadata": {},
   "outputs": [],
   "source": [
    "fig = px.bar(\n",
    "    df[product_category_cols].count(axis=1).value_counts(),\n",
    "    title='Distribution of number of categories in purchased products',\n",
    ")\n",
    "\n",
    "fig.update_layout(\n",
    "    xaxis_title='Number of categories',\n",
    "    yaxis_title='Number of purchases',\n",
    "    showlegend=False,\n",
    "    xaxis_tickvals=[1, 2, 3]\n",
    ")\n",
    "\n",
    "fig.show()"
   ]
  },
  {
   "cell_type": "markdown",
   "metadata": {},
   "source": [
    "The distribution is somewhat uniform, with 2 categories per purchased product being slightly dominant. This means that by dropping a column, we could lose a significant amount of information.\n",
    "\n",
    "Another option is to fill the missing values with, for example, the most common value of that column. However, we don't know what do the values represent and if there's any relationship between them, hence filling the missing data with no further investigation could lead to biasing the dataset."
   ]
  },
  {
   "cell_type": "code",
   "execution_count": null,
   "metadata": {},
   "outputs": [],
   "source": [
    "df.groupby(by=product_category_cols)['Purchase'].agg('mean')"
   ]
  },
  {
   "cell_type": "markdown",
   "metadata": {},
   "source": [
    "## Investigate users' purchasing behavior"
   ]
  },
  {
   "cell_type": "markdown",
   "metadata": {},
   "source": [
    "## Investigate product-purchase relations"
   ]
  },
  {
   "cell_type": "code",
   "execution_count": null,
   "metadata": {},
   "outputs": [],
   "source": [
    "df[product_category_cols].corrwith(df['Purchase'], method='spearman')"
   ]
  },
  {
   "cell_type": "code",
   "execution_count": null,
   "metadata": {},
   "outputs": [],
   "source": [
    "df.groupby(by=product_category_cols[0])['Purchase'].agg(['mean', 'std', 'count'])"
   ]
  },
  {
   "cell_type": "code",
   "execution_count": null,
   "metadata": {},
   "outputs": [],
   "source": []
  }
 ],
 "metadata": {
  "kernelspec": {
   "display_name": ".venv",
   "language": "python",
   "name": "python3"
  },
  "language_info": {
   "codemirror_mode": {
    "name": "ipython",
    "version": 3
   },
   "file_extension": ".py",
   "mimetype": "text/x-python",
   "name": "python",
   "nbconvert_exporter": "python",
   "pygments_lexer": "ipython3",
   "version": "3.11.6"
  }
 },
 "nbformat": 4,
 "nbformat_minor": 2
}
